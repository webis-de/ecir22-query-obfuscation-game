{
 "cells": [
  {
   "cell_type": "markdown",
   "id": "2624ae43",
   "metadata": {},
   "source": [
    "# Automatic Query Obfuscation"
   ]
  },
  {
   "cell_type": "code",
   "execution_count": 1,
   "id": "c429328a",
   "metadata": {},
   "outputs": [],
   "source": [
    "from pyserini.search import SimpleSearcher\n",
    "import json\n",
    "from tqdm import tqdm"
   ]
  },
  {
   "cell_type": "code",
   "execution_count": 2,
   "id": "54254601",
   "metadata": {},
   "outputs": [],
   "source": [
    "SEARCHER = SimpleSearcher(\"/mnt/ceph/storage/data-in-progress/data-teaching/theses/wstud-thesis-libera/indexes/lucene-index.cw12-documents-v1.pos+docvectors/\")"
   ]
  },
  {
   "cell_type": "code",
   "execution_count": 9,
   "id": "439e40e9",
   "metadata": {},
   "outputs": [],
   "source": [
    "def all_queries(i):\n",
    "    import itertools\n",
    "\n",
    "    for comb in itertools.combinations(i['keywords'], 3):\n",
    "        yield ' '.join(comb)\n",
    "\n",
    "    for comb in itertools.combinations(i['keywords'], 2):\n",
    "        yield ' '.join(comb)\n",
    "        \n",
    "def mrr_of_query(target_uuid, query):\n",
    "    hits = SEARCHER.search(query, 1000)\n",
    "    for i in range(0, len(hits)):\n",
    "        if target_uuid == hits[i].docid:\n",
    "            return 1/(1+i)\n",
    "    return 0\n",
    "\n",
    "def find_best_obfuscated_queries(query_data):\n",
    "    ret = []\n",
    "    for query in query_data['queries']:\n",
    "        ret += [(query, mrr_of_query(query_data['uuid'], query))]\n",
    "    \n",
    "    ret = sorted(ret, key=lambda i: i[1], reverse=True)\n",
    "    ret2 = []\n",
    "    covered_scores = set()\n",
    "    for k,v in ret:\n",
    "        if str(v) not in covered_scores:\n",
    "            covered_scores.add(str(v))\n",
    "            ret2 += [(k,v)]\n",
    "    return ret2[:5]"
   ]
  },
  {
   "cell_type": "code",
   "execution_count": 10,
   "id": "d5f61e78",
   "metadata": {},
   "outputs": [
    {
     "name": "stderr",
     "output_type": "stream",
     "text": [
      "100%|█████████████████████████████████████████████████████████████████████████████████████████████████████████████| 65/65 [03:05<00:00,  2.86s/it]\n",
      "100%|█████████████████████████████████████████████████████████████████████████████████████████████████████████████| 15/15 [00:45<00:00,  3.00s/it]\n",
      "100%|█████████████████████████████████████████████████████████████████████████████████████████████████████████████| 15/15 [00:41<00:00,  2.78s/it]\n",
      "100%|█████████████████████████████████████████████████████████████████████████████████████████████████████████████| 45/45 [02:11<00:00,  2.93s/it]\n",
      "100%|█████████████████████████████████████████████████████████████████████████████████████████████████████████████| 35/35 [01:41<00:00,  2.90s/it]\n",
      "100%|█████████████████████████████████████████████████████████████████████████████████████████████████████████████| 30/30 [01:23<00:00,  2.77s/it]\n"
     ]
    }
   ],
   "source": [
    "all_query_data = json.load(open('../data/query_complete_data.json'))\n",
    "\n",
    "f = open('automatic-query-obfuscations.log', 'w')\n",
    "\n",
    "\n",
    "doc_id=0\n",
    "for category, query_data_category in all_query_data.items():\n",
    "    for private_query, query_data in tqdm(query_data_category.items()):\n",
    "        del query_data['file_name']\n",
    "        del query_data['related_documents']\n",
    "        del query_data['forbidden_words']\n",
    "        doc_id += 1\n",
    "        query_data['keywords'] = query_data['keywords'].keys()\n",
    "        query_data['queries'] = [i for i in all_queries(query_data)]\n",
    "        for obfuscated_query, _ in find_best_obfuscated_queries(query_data):\n",
    "            f.write('INFO:root:{\"_id\": \"' + str(doc_id) + '\", \"username\": \"automatic\", \"category\": \"' + category + '\", \"original query\": \"' + private_query + '\", \"level\": \"squid\", \"timestamp\": \"Wed Jun 23 20:06:17 2021\"}\\n')\n",
    "            f.write('INFO:root:{\"_id\": \"' + str(doc_id) + '\", \"username\": \"automatic\", \"category\": \"' + category + '\", \"original query\": \"' + private_query + '\", \"user query\": \"' + obfuscated_query + '\", \"level\": \"squid\", \"timestamp\": \"Wed Jun 23 20:06:18 2021\"}\\n')\n",
    "            f.flush()"
   ]
  },
  {
   "cell_type": "code",
   "execution_count": 13,
   "id": "1d1b131d",
   "metadata": {},
   "outputs": [],
   "source": []
  }
 ],
 "metadata": {
  "kernelspec": {
   "display_name": "Python 3 (ipykernel)",
   "language": "python",
   "name": "python3"
  },
  "language_info": {
   "codemirror_mode": {
    "name": "ipython",
    "version": 3
   },
   "file_extension": ".py",
   "mimetype": "text/x-python",
   "name": "python",
   "nbconvert_exporter": "python",
   "pygments_lexer": "ipython3",
   "version": "3.8.10"
  }
 },
 "nbformat": 4,
 "nbformat_minor": 5
}
